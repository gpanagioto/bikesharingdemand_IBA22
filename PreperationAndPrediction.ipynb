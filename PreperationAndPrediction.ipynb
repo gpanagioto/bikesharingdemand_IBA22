{
 "cells": [
  {
   "cell_type": "markdown",
   "id": "8eb21cf3",
   "metadata": {},
   "source": [
    "# 42577 Introduction to Business Analytics Project"
   ]
  },
  {
   "cell_type": "markdown",
   "id": "3b754e8f",
   "metadata": {},
   "source": [
    "**Georgios Panagiotopoulos s223306**"
   ]
  },
  {
   "cell_type": "markdown",
   "id": "30935f0c",
   "metadata": {},
   "source": [
    "## Introduction And Initials Visualizations"
   ]
  },
  {
   "cell_type": "markdown",
   "id": "87541951",
   "metadata": {},
   "source": [
    "The term sustainable mobility goes far beyond reducing emissions. The transport sector has the potential to improve the lives and livelihoods of billions of people. However, as well as meeting people’s needs today, the sector must be ready to respond to future generations’ expectations: this is the essence of sustainable development.\n",
    "\n",
    "Following this year’s topic, sustainable mobility. We have been assigned with the task of predict the total demand for the bike sharing system “BlueBikes” based in Boston, for 2 hours in the future. \n",
    "\n",
    "As context BlieBikes is a company created in July 2011 and located in Metro Boston. Since it creations it have grown exponentially, from 3203 annual members to over 20000 members as of today:\n",
    "![memberships%20and%20rideships.png](attachment:memberships%20and%20rideships.png)"
   ]
  },
  {
   "cell_type": "markdown",
   "id": "e36b736f",
   "metadata": {},
   "source": [
    "As always we start by importing all the libraries and functions we are going to use for the data analysis and visualisation as well as for the prediction challenge. *****"
   ]
  },
  {
   "cell_type": "code",
   "execution_count": 1,
   "id": "31a1241b",
   "metadata": {},
   "outputs": [],
   "source": [
    "%load_ext autoreload\n",
    "%autoreload 2\n",
    "import pandas as pd\n",
    "import main as main\n",
    "import numpy as np\n",
    "#import holidays\n",
    "import seaborn as sns\n",
    "from collections import Counter\n",
    "import matplotlib.pyplot as plt\n",
    "from tabulate import tabulate\n",
    "from sklearn.model_selection import cross_val_score\n",
    "from sklearn.preprocessing import StandardScaler, MinMaxScaler\n",
    "from sklearn.linear_model import LinearRegression, Ridge, Lasso\n",
    "from sklearn.model_selection import GridSearchCV\n",
    "from sklearn.ensemble import RandomForestRegressor\n",
    "from sklearn.ensemble import ExtraTreesRegressor\n",
    "from sklearn.metrics import r2_score, mean_squared_error"
   ]
  },
  {
   "cell_type": "code",
   "execution_count": 2,
   "id": "ce369086",
   "metadata": {},
   "outputs": [],
   "source": [
    "%matplotlib inline"
   ]
  },
  {
   "cell_type": "code",
   "execution_count": 3,
   "id": "e26a4541",
   "metadata": {
    "scrolled": false
   },
   "outputs": [
    {
     "name": "stderr",
     "output_type": "stream",
     "text": [
      "/home/georgep/anaconda3/envs/MachineLearning/lib/python3.8/site-packages/numpy/lib/arraysetops.py:580: FutureWarning: elementwise comparison failed; returning scalar instead, but in the future will perform elementwise comparison\n",
      "  mask |= (ar1 == a)\n"
     ]
    }
   ],
   "source": [
    "# our data with the target variable\n",
    "data = pd.read_csv('BikeSharing_Bluebikes2022.csv', index_col=0)"
   ]
  },
  {
   "cell_type": "code",
   "execution_count": 4,
   "id": "ccc0eec1",
   "metadata": {},
   "outputs": [
    {
     "data": {
      "text/html": [
       "<div>\n",
       "<style scoped>\n",
       "    .dataframe tbody tr th:only-of-type {\n",
       "        vertical-align: middle;\n",
       "    }\n",
       "\n",
       "    .dataframe tbody tr th {\n",
       "        vertical-align: top;\n",
       "    }\n",
       "\n",
       "    .dataframe thead th {\n",
       "        text-align: right;\n",
       "    }\n",
       "</style>\n",
       "<table border=\"1\" class=\"dataframe\">\n",
       "  <thead>\n",
       "    <tr style=\"text-align: right;\">\n",
       "      <th></th>\n",
       "      <th>tripduration</th>\n",
       "      <th>starttime</th>\n",
       "      <th>stoptime</th>\n",
       "      <th>start station id</th>\n",
       "      <th>start station name</th>\n",
       "      <th>start station latitude</th>\n",
       "      <th>start station longitude</th>\n",
       "      <th>end station id</th>\n",
       "      <th>end station name</th>\n",
       "      <th>end station latitude</th>\n",
       "      <th>end station longitude</th>\n",
       "      <th>bikeid</th>\n",
       "      <th>usertype</th>\n",
       "      <th>postal code</th>\n",
       "    </tr>\n",
       "  </thead>\n",
       "  <tbody>\n",
       "    <tr>\n",
       "      <th>0</th>\n",
       "      <td>597</td>\n",
       "      <td>2022-01-01 00:00:25.1660</td>\n",
       "      <td>2022-01-01 00:10:22.1920</td>\n",
       "      <td>178</td>\n",
       "      <td>MIT Pacific St at Purrington St</td>\n",
       "      <td>42.359573</td>\n",
       "      <td>-71.101295</td>\n",
       "      <td>74</td>\n",
       "      <td>Harvard Square at Mass Ave/ Dunster</td>\n",
       "      <td>42.373268</td>\n",
       "      <td>-71.118579</td>\n",
       "      <td>4923</td>\n",
       "      <td>Subscriber</td>\n",
       "      <td>02139</td>\n",
       "    </tr>\n",
       "    <tr>\n",
       "      <th>1</th>\n",
       "      <td>411</td>\n",
       "      <td>2022-01-01 00:00:40.4300</td>\n",
       "      <td>2022-01-01 00:07:32.1980</td>\n",
       "      <td>189</td>\n",
       "      <td>Kendall T</td>\n",
       "      <td>42.362428</td>\n",
       "      <td>-71.084955</td>\n",
       "      <td>178</td>\n",
       "      <td>MIT Pacific St at Purrington St</td>\n",
       "      <td>42.359573</td>\n",
       "      <td>-71.101295</td>\n",
       "      <td>3112</td>\n",
       "      <td>Subscriber</td>\n",
       "      <td>02139</td>\n",
       "    </tr>\n",
       "    <tr>\n",
       "      <th>2</th>\n",
       "      <td>476</td>\n",
       "      <td>2022-01-01 00:00:54.8180</td>\n",
       "      <td>2022-01-01 00:08:51.6680</td>\n",
       "      <td>94</td>\n",
       "      <td>Main St at Austin St</td>\n",
       "      <td>42.375603</td>\n",
       "      <td>-71.064608</td>\n",
       "      <td>356</td>\n",
       "      <td>Charlestown Navy Yard</td>\n",
       "      <td>42.374125</td>\n",
       "      <td>-71.054812</td>\n",
       "      <td>6901</td>\n",
       "      <td>Customer</td>\n",
       "      <td>02124</td>\n",
       "    </tr>\n",
       "    <tr>\n",
       "      <th>3</th>\n",
       "      <td>466</td>\n",
       "      <td>2022-01-01 00:01:01.6080</td>\n",
       "      <td>2022-01-01 00:08:48.2350</td>\n",
       "      <td>94</td>\n",
       "      <td>Main St at Austin St</td>\n",
       "      <td>42.375603</td>\n",
       "      <td>-71.064608</td>\n",
       "      <td>356</td>\n",
       "      <td>Charlestown Navy Yard</td>\n",
       "      <td>42.374125</td>\n",
       "      <td>-71.054812</td>\n",
       "      <td>5214</td>\n",
       "      <td>Customer</td>\n",
       "      <td>02124</td>\n",
       "    </tr>\n",
       "    <tr>\n",
       "      <th>4</th>\n",
       "      <td>752</td>\n",
       "      <td>2022-01-01 00:01:06.0520</td>\n",
       "      <td>2022-01-01 00:13:38.2300</td>\n",
       "      <td>19</td>\n",
       "      <td>Park Dr at Buswell St</td>\n",
       "      <td>42.347241</td>\n",
       "      <td>-71.105301</td>\n",
       "      <td>41</td>\n",
       "      <td>Packard's Corner - Commonwealth Ave at Brighto...</td>\n",
       "      <td>42.352261</td>\n",
       "      <td>-71.123831</td>\n",
       "      <td>2214</td>\n",
       "      <td>Subscriber</td>\n",
       "      <td>02215</td>\n",
       "    </tr>\n",
       "  </tbody>\n",
       "</table>\n",
       "</div>"
      ],
      "text/plain": [
       "   tripduration                 starttime                  stoptime  \\\n",
       "0           597  2022-01-01 00:00:25.1660  2022-01-01 00:10:22.1920   \n",
       "1           411  2022-01-01 00:00:40.4300  2022-01-01 00:07:32.1980   \n",
       "2           476  2022-01-01 00:00:54.8180  2022-01-01 00:08:51.6680   \n",
       "3           466  2022-01-01 00:01:01.6080  2022-01-01 00:08:48.2350   \n",
       "4           752  2022-01-01 00:01:06.0520  2022-01-01 00:13:38.2300   \n",
       "\n",
       "   start station id               start station name  start station latitude  \\\n",
       "0               178  MIT Pacific St at Purrington St               42.359573   \n",
       "1               189                        Kendall T               42.362428   \n",
       "2                94             Main St at Austin St               42.375603   \n",
       "3                94             Main St at Austin St               42.375603   \n",
       "4                19            Park Dr at Buswell St               42.347241   \n",
       "\n",
       "   start station longitude  end station id  \\\n",
       "0               -71.101295              74   \n",
       "1               -71.084955             178   \n",
       "2               -71.064608             356   \n",
       "3               -71.064608             356   \n",
       "4               -71.105301              41   \n",
       "\n",
       "                                    end station name  end station latitude  \\\n",
       "0                Harvard Square at Mass Ave/ Dunster             42.373268   \n",
       "1                    MIT Pacific St at Purrington St             42.359573   \n",
       "2                              Charlestown Navy Yard             42.374125   \n",
       "3                              Charlestown Navy Yard             42.374125   \n",
       "4  Packard's Corner - Commonwealth Ave at Brighto...             42.352261   \n",
       "\n",
       "   end station longitude  bikeid    usertype postal code  \n",
       "0             -71.118579    4923  Subscriber       02139  \n",
       "1             -71.101295    3112  Subscriber       02139  \n",
       "2             -71.054812    6901    Customer       02124  \n",
       "3             -71.054812    5214    Customer       02124  \n",
       "4             -71.123831    2214  Subscriber       02215  "
      ]
     },
     "execution_count": 4,
     "metadata": {},
     "output_type": "execute_result"
    }
   ],
   "source": [
    "data.head()"
   ]
  },
  {
   "cell_type": "markdown",
   "id": "64b58f40",
   "metadata": {},
   "source": [
    "Shape Of The Dataset"
   ]
  },
  {
   "cell_type": "code",
   "execution_count": 5,
   "id": "02fb93e4",
   "metadata": {},
   "outputs": [
    {
     "data": {
      "text/plain": [
       "(2305735, 14)"
      ]
     },
     "execution_count": 5,
     "metadata": {},
     "output_type": "execute_result"
    }
   ],
   "source": [
    "data.shape"
   ]
  },
  {
   "cell_type": "code",
   "execution_count": 6,
   "id": "199fa70c",
   "metadata": {},
   "outputs": [],
   "source": [
    "#transforming the dates from object to datetime\n",
    "for date_column in ['starttime','stoptime']:\n",
    "    data[date_column] = pd.to_datetime(data[date_column], format='%Y-%m-%d %H:%M:%S')"
   ]
  },
  {
   "cell_type": "code",
   "execution_count": 7,
   "id": "4f5a16f2",
   "metadata": {},
   "outputs": [],
   "source": [
    "'''\n",
    "DatetimeInterval function: \n",
    "'''\n",
    "df15 = main.DatetimeInterval(data, freq='15Min')\n",
    "df30 = main.DatetimeInterval(data, freq='30Min')\n",
    "df60 = main.DatetimeInterval(data, freq='60Min')\n",
    "df120 = main.DatetimeInterval(data, freq='120Min')\n",
    "picks15 = main.Lagging(df15, 15)\n",
    "picks30 = main.Lagging(df30, 30)\n",
    "picks60 = main.Lagging(df60, 60)\n",
    "picks120 = main.Lagging(df120, 120)"
   ]
  },
  {
   "cell_type": "code",
   "execution_count": 8,
   "id": "1c766aec",
   "metadata": {},
   "outputs": [
    {
     "data": {
      "text/html": [
       "<div>\n",
       "<style scoped>\n",
       "    .dataframe tbody tr th:only-of-type {\n",
       "        vertical-align: middle;\n",
       "    }\n",
       "\n",
       "    .dataframe tbody tr th {\n",
       "        vertical-align: top;\n",
       "    }\n",
       "\n",
       "    .dataframe thead th {\n",
       "        text-align: right;\n",
       "    }\n",
       "</style>\n",
       "<table border=\"1\" class=\"dataframe\">\n",
       "  <thead>\n",
       "    <tr style=\"text-align: right;\">\n",
       "      <th></th>\n",
       "      <th>usertype_Customer</th>\n",
       "      <th>usertype_Subscriber</th>\n",
       "      <th>pickups</th>\n",
       "      <th>month</th>\n",
       "      <th>hour</th>\n",
       "      <th>minute</th>\n",
       "      <th>lag(pickups,60-75)</th>\n",
       "      <th>lag(pickups,75-90)</th>\n",
       "      <th>lag(pickups,90-105)</th>\n",
       "      <th>lag(pickups,105-120)</th>\n",
       "    </tr>\n",
       "    <tr>\n",
       "      <th>starttime</th>\n",
       "      <th></th>\n",
       "      <th></th>\n",
       "      <th></th>\n",
       "      <th></th>\n",
       "      <th></th>\n",
       "      <th></th>\n",
       "      <th></th>\n",
       "      <th></th>\n",
       "      <th></th>\n",
       "      <th></th>\n",
       "    </tr>\n",
       "  </thead>\n",
       "  <tbody>\n",
       "    <tr>\n",
       "      <th>2022-01-01 00:00:00</th>\n",
       "      <td>7.0</td>\n",
       "      <td>23.0</td>\n",
       "      <td>30.0</td>\n",
       "      <td>1</td>\n",
       "      <td>0</td>\n",
       "      <td>0</td>\n",
       "      <td>NaN</td>\n",
       "      <td>NaN</td>\n",
       "      <td>NaN</td>\n",
       "      <td>NaN</td>\n",
       "    </tr>\n",
       "    <tr>\n",
       "      <th>2022-01-01 00:15:00</th>\n",
       "      <td>6.0</td>\n",
       "      <td>30.0</td>\n",
       "      <td>36.0</td>\n",
       "      <td>1</td>\n",
       "      <td>0</td>\n",
       "      <td>15</td>\n",
       "      <td>NaN</td>\n",
       "      <td>NaN</td>\n",
       "      <td>NaN</td>\n",
       "      <td>NaN</td>\n",
       "    </tr>\n",
       "    <tr>\n",
       "      <th>2022-01-01 00:30:00</th>\n",
       "      <td>7.0</td>\n",
       "      <td>22.0</td>\n",
       "      <td>29.0</td>\n",
       "      <td>1</td>\n",
       "      <td>0</td>\n",
       "      <td>30</td>\n",
       "      <td>NaN</td>\n",
       "      <td>NaN</td>\n",
       "      <td>NaN</td>\n",
       "      <td>NaN</td>\n",
       "    </tr>\n",
       "    <tr>\n",
       "      <th>2022-01-01 00:45:00</th>\n",
       "      <td>8.0</td>\n",
       "      <td>22.0</td>\n",
       "      <td>30.0</td>\n",
       "      <td>1</td>\n",
       "      <td>0</td>\n",
       "      <td>45</td>\n",
       "      <td>NaN</td>\n",
       "      <td>NaN</td>\n",
       "      <td>NaN</td>\n",
       "      <td>NaN</td>\n",
       "    </tr>\n",
       "    <tr>\n",
       "      <th>2022-01-01 01:00:00</th>\n",
       "      <td>5.0</td>\n",
       "      <td>16.0</td>\n",
       "      <td>21.0</td>\n",
       "      <td>1</td>\n",
       "      <td>1</td>\n",
       "      <td>0</td>\n",
       "      <td>NaN</td>\n",
       "      <td>NaN</td>\n",
       "      <td>NaN</td>\n",
       "      <td>NaN</td>\n",
       "    </tr>\n",
       "  </tbody>\n",
       "</table>\n",
       "</div>"
      ],
      "text/plain": [
       "                     usertype_Customer  usertype_Subscriber  pickups  month  \\\n",
       "starttime                                                                     \n",
       "2022-01-01 00:00:00                7.0                 23.0     30.0      1   \n",
       "2022-01-01 00:15:00                6.0                 30.0     36.0      1   \n",
       "2022-01-01 00:30:00                7.0                 22.0     29.0      1   \n",
       "2022-01-01 00:45:00                8.0                 22.0     30.0      1   \n",
       "2022-01-01 01:00:00                5.0                 16.0     21.0      1   \n",
       "\n",
       "                     hour  minute  lag(pickups,60-75)  lag(pickups,75-90)  \\\n",
       "starttime                                                                   \n",
       "2022-01-01 00:00:00     0       0                 NaN                 NaN   \n",
       "2022-01-01 00:15:00     0      15                 NaN                 NaN   \n",
       "2022-01-01 00:30:00     0      30                 NaN                 NaN   \n",
       "2022-01-01 00:45:00     0      45                 NaN                 NaN   \n",
       "2022-01-01 01:00:00     1       0                 NaN                 NaN   \n",
       "\n",
       "                     lag(pickups,90-105)  lag(pickups,105-120)  \n",
       "starttime                                                       \n",
       "2022-01-01 00:00:00                  NaN                   NaN  \n",
       "2022-01-01 00:15:00                  NaN                   NaN  \n",
       "2022-01-01 00:30:00                  NaN                   NaN  \n",
       "2022-01-01 00:45:00                  NaN                   NaN  \n",
       "2022-01-01 01:00:00                  NaN                   NaN  "
      ]
     },
     "execution_count": 8,
     "metadata": {},
     "output_type": "execute_result"
    }
   ],
   "source": [
    "df15.head()"
   ]
  },
  {
   "cell_type": "code",
   "execution_count": 9,
   "id": "70b4f33d",
   "metadata": {},
   "outputs": [
    {
     "data": {
      "text/html": [
       "<div>\n",
       "<style scoped>\n",
       "    .dataframe tbody tr th:only-of-type {\n",
       "        vertical-align: middle;\n",
       "    }\n",
       "\n",
       "    .dataframe tbody tr th {\n",
       "        vertical-align: top;\n",
       "    }\n",
       "\n",
       "    .dataframe thead th {\n",
       "        text-align: right;\n",
       "    }\n",
       "</style>\n",
       "<table border=\"1\" class=\"dataframe\">\n",
       "  <thead>\n",
       "    <tr style=\"text-align: right;\">\n",
       "      <th></th>\n",
       "      <th>pickups</th>\n",
       "      <th>month</th>\n",
       "      <th>hour</th>\n",
       "      <th>minute</th>\n",
       "      <th>lag(pickups,60-75)</th>\n",
       "      <th>lag(pickups,75-90)</th>\n",
       "      <th>lag(pickups,90-105)</th>\n",
       "      <th>lag(pickups,105-120)</th>\n",
       "    </tr>\n",
       "    <tr>\n",
       "      <th>starttime</th>\n",
       "      <th></th>\n",
       "      <th></th>\n",
       "      <th></th>\n",
       "      <th></th>\n",
       "      <th></th>\n",
       "      <th></th>\n",
       "      <th></th>\n",
       "      <th></th>\n",
       "    </tr>\n",
       "  </thead>\n",
       "  <tbody>\n",
       "    <tr>\n",
       "      <th>2022-01-01 02:00:00</th>\n",
       "      <td>27.0</td>\n",
       "      <td>1</td>\n",
       "      <td>2</td>\n",
       "      <td>0</td>\n",
       "      <td>30.0</td>\n",
       "      <td>29.0</td>\n",
       "      <td>36.0</td>\n",
       "      <td>30.0</td>\n",
       "    </tr>\n",
       "    <tr>\n",
       "      <th>2022-01-01 02:15:00</th>\n",
       "      <td>14.0</td>\n",
       "      <td>1</td>\n",
       "      <td>2</td>\n",
       "      <td>15</td>\n",
       "      <td>21.0</td>\n",
       "      <td>30.0</td>\n",
       "      <td>29.0</td>\n",
       "      <td>36.0</td>\n",
       "    </tr>\n",
       "    <tr>\n",
       "      <th>2022-01-01 02:30:00</th>\n",
       "      <td>16.0</td>\n",
       "      <td>1</td>\n",
       "      <td>2</td>\n",
       "      <td>30</td>\n",
       "      <td>22.0</td>\n",
       "      <td>21.0</td>\n",
       "      <td>30.0</td>\n",
       "      <td>29.0</td>\n",
       "    </tr>\n",
       "    <tr>\n",
       "      <th>2022-01-01 02:45:00</th>\n",
       "      <td>16.0</td>\n",
       "      <td>1</td>\n",
       "      <td>2</td>\n",
       "      <td>45</td>\n",
       "      <td>24.0</td>\n",
       "      <td>22.0</td>\n",
       "      <td>21.0</td>\n",
       "      <td>30.0</td>\n",
       "    </tr>\n",
       "    <tr>\n",
       "      <th>2022-01-01 03:00:00</th>\n",
       "      <td>30.0</td>\n",
       "      <td>1</td>\n",
       "      <td>3</td>\n",
       "      <td>0</td>\n",
       "      <td>25.0</td>\n",
       "      <td>24.0</td>\n",
       "      <td>22.0</td>\n",
       "      <td>21.0</td>\n",
       "    </tr>\n",
       "  </tbody>\n",
       "</table>\n",
       "</div>"
      ],
      "text/plain": [
       "                     pickups  month  hour  minute  lag(pickups,60-75)  \\\n",
       "starttime                                                               \n",
       "2022-01-01 02:00:00     27.0      1     2       0                30.0   \n",
       "2022-01-01 02:15:00     14.0      1     2      15                21.0   \n",
       "2022-01-01 02:30:00     16.0      1     2      30                22.0   \n",
       "2022-01-01 02:45:00     16.0      1     2      45                24.0   \n",
       "2022-01-01 03:00:00     30.0      1     3       0                25.0   \n",
       "\n",
       "                     lag(pickups,75-90)  lag(pickups,90-105)  \\\n",
       "starttime                                                      \n",
       "2022-01-01 02:00:00                29.0                 36.0   \n",
       "2022-01-01 02:15:00                30.0                 29.0   \n",
       "2022-01-01 02:30:00                21.0                 30.0   \n",
       "2022-01-01 02:45:00                22.0                 21.0   \n",
       "2022-01-01 03:00:00                24.0                 22.0   \n",
       "\n",
       "                     lag(pickups,105-120)  \n",
       "starttime                                  \n",
       "2022-01-01 02:00:00                  30.0  \n",
       "2022-01-01 02:15:00                  36.0  \n",
       "2022-01-01 02:30:00                  29.0  \n",
       "2022-01-01 02:45:00                  30.0  \n",
       "2022-01-01 03:00:00                  21.0  "
      ]
     },
     "execution_count": 9,
     "metadata": {},
     "output_type": "execute_result"
    }
   ],
   "source": [
    "picks15.head()"
   ]
  },
  {
   "cell_type": "code",
   "execution_count": null,
   "id": "c07573a7",
   "metadata": {},
   "outputs": [],
   "source": [
    "fig, axs = plt.subplots(len([picks15,picks30,picks60,picks120]), figsize=(16,12))\n",
    "fig.suptitle('Pickups of bikes distribution during months')\n",
    "\n",
    "for i, df in enumerate([picks15,picks30,picks60,picks120]):\n",
    "    axs[i].plot(df['pickups'])\n",
    "\n",
    "axs[0].set_title('15 minutes')\n",
    "axs[1].set_title('30 minutes')\n",
    "axs[2].set_title('60 minutes')\n",
    "axs[3].set_title('120 minutes')\n",
    "\n",
    "plt.tight_layout()"
   ]
  },
  {
   "cell_type": "code",
   "execution_count": null,
   "id": "6d4540d7",
   "metadata": {},
   "outputs": [],
   "source": [
    "fig, axes = plt.subplots(len([picks15,picks30,picks60,picks120]), figsize=(16,12))\n",
    "fig.suptitle('Pickups of bikes per hour of day')\n",
    "\n",
    "for i, df in enumerate([picks15,picks30,picks60,picks120]):\n",
    "    sns.boxplot(ax=axes[i], x='hour',y='pickups', data=df)\n",
    "\n",
    "axes[0].set_title('15 minutes')\n",
    "axes[1].set_title('30 minutes')\n",
    "axes[2].set_title('60 minutes')\n",
    "axes[3].set_title('120 minutes')\n",
    "\n",
    "plt.tight_layout()"
   ]
  },
  {
   "cell_type": "code",
   "execution_count": null,
   "id": "091e7046",
   "metadata": {},
   "outputs": [],
   "source": [
    "fig, axes = plt.subplots(len([picks15,picks30,picks60,picks120]), figsize=(16,12))\n",
    "fig.suptitle('Pickups of bikes per month')\n",
    "\n",
    "for i, df in enumerate([picks15,picks30,picks60,picks120]):\n",
    "    sns.boxplot(ax=axes[i],x='month',y='pickups', data=df)\n",
    "\n",
    "axes[0].set_title('15 minutes')\n",
    "axes[1].set_title('30 minutes')\n",
    "axes[2].set_title('60 minutes')\n",
    "axes[3].set_title('120 minutes')\n",
    "\n",
    "plt.tight_layout()"
   ]
  },
  {
   "cell_type": "markdown",
   "id": "a491051e",
   "metadata": {},
   "source": [
    "## Prediction challenge "
   ]
  },
  {
   "cell_type": "code",
   "execution_count": null,
   "id": "d659301d",
   "metadata": {},
   "outputs": [],
   "source": [
    "def ModelRunningResults(models,models_name, first_row, picks, weather_columns):\n",
    "    results = {}\n",
    "    table = [first_row]\n",
    "    pipe = main.PredictionPipeline(picks,weather_columns)\n",
    "    fi_list = []\n",
    "    X_train, X_test, y_train, y_test = pipe.PredictionDataPreperation()\n",
    "    for model, model_name in zip(models,models_name):\n",
    "        CV_score, CV_MSE, test_score, test_MSE, fi = pipe.BackTestingPrediction(model, model_name, X_train, X_test, y_train, y_test)\n",
    "        results[model_name] = {'Test Score':test_score, 'Test MSE':test_MSE,  'Features Importance':fi}\n",
    "        row = [model_name, test_score, test_MSE]\n",
    "        table.append(row)      \n",
    "        fi_list.append(fi)\n",
    "    return table, fi_list"
   ]
  },
  {
   "cell_type": "code",
   "execution_count": null,
   "id": "731265a3",
   "metadata": {},
   "outputs": [],
   "source": [
    "models = [LinearRegression(),Ridge(),Lasso(),RandomForestRegressor(),ExtraTreesRegressor()]\n",
    "models_name = ['LinearRegression','RidgeRegression','LassoRegression','RandomForestRegressor','ExtraTreesRegressor']\n",
    "first_row = ['Model for 15','Final Test Score','Final Test RMSE']\n",
    "weather_columns = []\n",
    "print('The Prediction based on {} minutes intervals \\n'.format(15))\n",
    "table15, features_importance15 = ModelRunningResults(models,models_name, first_row, picks15, weather_columns)"
   ]
  },
  {
   "cell_type": "code",
   "execution_count": null,
   "id": "cab8886d",
   "metadata": {},
   "outputs": [],
   "source": [
    "print(tabulate(table15, headers='firstrow',colalign=(\"left\",), floatfmt=\".4f\"))"
   ]
  },
  {
   "cell_type": "code",
   "execution_count": null,
   "id": "a65b600f",
   "metadata": {},
   "outputs": [],
   "source": [
    "print('Featutes importance 15 min')\n",
    "for model in models_name:\n",
    "    print(model)\n",
    "    for i,f in enumerate(features_importance15):\n",
    "        print(f[i],'\\n')"
   ]
  },
  {
   "cell_type": "code",
   "execution_count": null,
   "id": "c10cff3f",
   "metadata": {},
   "outputs": [],
   "source": [
    "models = [LinearRegression(),Ridge(),Lasso(),RandomForestRegressor(),ExtraTreesRegressor()]\n",
    "models_name = ['LinearRegression','RidgeRegression','LassoRegression','RandomForestRegressor','ExtraTreesRegressor']\n",
    "first_row = ['Model for 30min','Final Test Score','Final Test RMSE']\n",
    "weather_columns = []\n",
    "print('The Prediction based on {} minutes intervals \\n'.format(30))\n",
    "table30, features_importance30 = ModelRunningResults(models,models_name, first_row, picks30,weather_columns)"
   ]
  },
  {
   "cell_type": "code",
   "execution_count": null,
   "id": "2017dd68",
   "metadata": {},
   "outputs": [],
   "source": [
    "print(tabulate(table30,headers='firstrow',colalign=(\"left\",), floatfmt=\".4f\"))"
   ]
  },
  {
   "cell_type": "code",
   "execution_count": null,
   "id": "6b759229",
   "metadata": {},
   "outputs": [],
   "source": [
    "print('Featutes importance 30 min')\n",
    "for model in models_name:\n",
    "    print(model)\n",
    "    for i,f in enumerate(features_importance30):\n",
    "        print(f[i],'\\n')"
   ]
  },
  {
   "cell_type": "code",
   "execution_count": null,
   "id": "b64fc16e",
   "metadata": {},
   "outputs": [],
   "source": []
  },
  {
   "cell_type": "code",
   "execution_count": null,
   "id": "478c231a",
   "metadata": {},
   "outputs": [],
   "source": [
    "models = [LinearRegression(),Ridge(),Lasso(),RandomForestRegressor(),ExtraTreesRegressor()]\n",
    "models_name = ['LinearRegression','RidgeRegression','LassoRegression','RandomForestRegressor','ExtraTreesRegressor']\n",
    "first_row = ['Model for 60','Final Test Score','Final Test RMSE']\n",
    "weather_columns = []\n",
    "print('The Prediction based on {} minutes intervals \\n'.format(60))\n",
    "table60, features_importance60  = ModelRunningResults(models,models_name, first_row, picks60,[])"
   ]
  },
  {
   "cell_type": "code",
   "execution_count": null,
   "id": "5ac08db7",
   "metadata": {},
   "outputs": [],
   "source": [
    "print(tabulate(table60,headers='firstrow',colalign=(\"left\",), floatfmt=\".4f\"))"
   ]
  },
  {
   "cell_type": "code",
   "execution_count": null,
   "id": "5f41bab1",
   "metadata": {},
   "outputs": [],
   "source": [
    "print('Featutes importance 60 min')\n",
    "for i,model in enumerate(models_name):\n",
    "    print(model, features_importance60[i])"
   ]
  },
  {
   "cell_type": "code",
   "execution_count": null,
   "id": "b9fc2f46",
   "metadata": {},
   "outputs": [],
   "source": []
  },
  {
   "cell_type": "code",
   "execution_count": null,
   "id": "76a54775",
   "metadata": {},
   "outputs": [],
   "source": [
    "models = [LinearRegression(),Ridge(),Lasso(),RandomForestRegressor(),ExtraTreesRegressor()]\n",
    "models_name = ['LinearRegression','RidgeRegression','LassoRegression','RandomForestRegressor','ExtraTreesRegressor']\n",
    "first_row = ['Model for 120','Final Test Score','Final Test RMSE']\n",
    "weather_columns = []\n",
    "print('The Prediction based on {} minutes intervals \\n'.format(120))\n",
    "table120, features_importance120 = ModelRunningResults(models,models_name, first_row, picks120,[])"
   ]
  },
  {
   "cell_type": "code",
   "execution_count": null,
   "id": "d5607c50",
   "metadata": {},
   "outputs": [],
   "source": [
    "print(tabulate(table120,headers='firstrow',colalign=(\"left\",), floatfmt=\".4f\"))"
   ]
  },
  {
   "cell_type": "code",
   "execution_count": null,
   "id": "63ee1fb7",
   "metadata": {},
   "outputs": [],
   "source": [
    "print('Featutes importance 120 min')\n",
    "for model in models_name:\n",
    "    print(model)\n",
    "    for i,f in enumerate(features_importance120):\n",
    "        print(f[i],'\\n')"
   ]
  }
 ],
 "metadata": {
  "kernelspec": {
   "display_name": "Python 3",
   "language": "python",
   "name": "python3"
  },
  "language_info": {
   "codemirror_mode": {
    "name": "ipython",
    "version": 3
   },
   "file_extension": ".py",
   "mimetype": "text/x-python",
   "name": "python",
   "nbconvert_exporter": "python",
   "pygments_lexer": "ipython3",
   "version": "3.8.10"
  },
  "vscode": {
   "interpreter": {
    "hash": "b80d33c03ba1999f642e974dd14a460d25f415959dec3a0d4319878d42e3c3e5"
   }
  }
 },
 "nbformat": 4,
 "nbformat_minor": 5
}
