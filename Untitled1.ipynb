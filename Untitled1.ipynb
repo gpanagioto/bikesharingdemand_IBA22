{
 "cells": [
  {
   "cell_type": "code",
   "execution_count": 1,
   "id": "31a1241b",
   "metadata": {},
   "outputs": [],
   "source": [
    "import pandas as pd\n",
    "import numpy as np"
   ]
  },
  {
   "cell_type": "code",
   "execution_count": 2,
   "id": "e26a4541",
   "metadata": {},
   "outputs": [
    {
     "name": "stderr",
     "output_type": "stream",
     "text": [
      "/home/georgep/anaconda3/envs/MachineLearning/lib/python3.8/site-packages/numpy/lib/arraysetops.py:580: FutureWarning: elementwise comparison failed; returning scalar instead, but in the future will perform elementwise comparison\n",
      "  mask |= (ar1 == a)\n"
     ]
    }
   ],
   "source": [
    "data = pd.read_csv('BikeSharing_Bluebikes2022.csv', index_col=0)"
   ]
  },
  {
   "cell_type": "code",
   "execution_count": 3,
   "id": "ccc0eec1",
   "metadata": {},
   "outputs": [
    {
     "data": {
      "text/html": [
       "<div>\n",
       "<style scoped>\n",
       "    .dataframe tbody tr th:only-of-type {\n",
       "        vertical-align: middle;\n",
       "    }\n",
       "\n",
       "    .dataframe tbody tr th {\n",
       "        vertical-align: top;\n",
       "    }\n",
       "\n",
       "    .dataframe thead th {\n",
       "        text-align: right;\n",
       "    }\n",
       "</style>\n",
       "<table border=\"1\" class=\"dataframe\">\n",
       "  <thead>\n",
       "    <tr style=\"text-align: right;\">\n",
       "      <th></th>\n",
       "      <th>tripduration</th>\n",
       "      <th>starttime</th>\n",
       "      <th>stoptime</th>\n",
       "      <th>start station id</th>\n",
       "      <th>start station name</th>\n",
       "      <th>start station latitude</th>\n",
       "      <th>start station longitude</th>\n",
       "      <th>end station id</th>\n",
       "      <th>end station name</th>\n",
       "      <th>end station latitude</th>\n",
       "      <th>end station longitude</th>\n",
       "      <th>bikeid</th>\n",
       "      <th>usertype</th>\n",
       "      <th>postal code</th>\n",
       "    </tr>\n",
       "  </thead>\n",
       "  <tbody>\n",
       "    <tr>\n",
       "      <th>0</th>\n",
       "      <td>597</td>\n",
       "      <td>2022-01-01 00:00:25.1660</td>\n",
       "      <td>2022-01-01 00:10:22.1920</td>\n",
       "      <td>178</td>\n",
       "      <td>MIT Pacific St at Purrington St</td>\n",
       "      <td>42.359573</td>\n",
       "      <td>-71.101295</td>\n",
       "      <td>74</td>\n",
       "      <td>Harvard Square at Mass Ave/ Dunster</td>\n",
       "      <td>42.373268</td>\n",
       "      <td>-71.118579</td>\n",
       "      <td>4923</td>\n",
       "      <td>Subscriber</td>\n",
       "      <td>02139</td>\n",
       "    </tr>\n",
       "    <tr>\n",
       "      <th>1</th>\n",
       "      <td>411</td>\n",
       "      <td>2022-01-01 00:00:40.4300</td>\n",
       "      <td>2022-01-01 00:07:32.1980</td>\n",
       "      <td>189</td>\n",
       "      <td>Kendall T</td>\n",
       "      <td>42.362428</td>\n",
       "      <td>-71.084955</td>\n",
       "      <td>178</td>\n",
       "      <td>MIT Pacific St at Purrington St</td>\n",
       "      <td>42.359573</td>\n",
       "      <td>-71.101295</td>\n",
       "      <td>3112</td>\n",
       "      <td>Subscriber</td>\n",
       "      <td>02139</td>\n",
       "    </tr>\n",
       "    <tr>\n",
       "      <th>2</th>\n",
       "      <td>476</td>\n",
       "      <td>2022-01-01 00:00:54.8180</td>\n",
       "      <td>2022-01-01 00:08:51.6680</td>\n",
       "      <td>94</td>\n",
       "      <td>Main St at Austin St</td>\n",
       "      <td>42.375603</td>\n",
       "      <td>-71.064608</td>\n",
       "      <td>356</td>\n",
       "      <td>Charlestown Navy Yard</td>\n",
       "      <td>42.374125</td>\n",
       "      <td>-71.054812</td>\n",
       "      <td>6901</td>\n",
       "      <td>Customer</td>\n",
       "      <td>02124</td>\n",
       "    </tr>\n",
       "    <tr>\n",
       "      <th>3</th>\n",
       "      <td>466</td>\n",
       "      <td>2022-01-01 00:01:01.6080</td>\n",
       "      <td>2022-01-01 00:08:48.2350</td>\n",
       "      <td>94</td>\n",
       "      <td>Main St at Austin St</td>\n",
       "      <td>42.375603</td>\n",
       "      <td>-71.064608</td>\n",
       "      <td>356</td>\n",
       "      <td>Charlestown Navy Yard</td>\n",
       "      <td>42.374125</td>\n",
       "      <td>-71.054812</td>\n",
       "      <td>5214</td>\n",
       "      <td>Customer</td>\n",
       "      <td>02124</td>\n",
       "    </tr>\n",
       "    <tr>\n",
       "      <th>4</th>\n",
       "      <td>752</td>\n",
       "      <td>2022-01-01 00:01:06.0520</td>\n",
       "      <td>2022-01-01 00:13:38.2300</td>\n",
       "      <td>19</td>\n",
       "      <td>Park Dr at Buswell St</td>\n",
       "      <td>42.347241</td>\n",
       "      <td>-71.105301</td>\n",
       "      <td>41</td>\n",
       "      <td>Packard's Corner - Commonwealth Ave at Brighto...</td>\n",
       "      <td>42.352261</td>\n",
       "      <td>-71.123831</td>\n",
       "      <td>2214</td>\n",
       "      <td>Subscriber</td>\n",
       "      <td>02215</td>\n",
       "    </tr>\n",
       "  </tbody>\n",
       "</table>\n",
       "</div>"
      ],
      "text/plain": [
       "   tripduration                 starttime                  stoptime  \\\n",
       "0           597  2022-01-01 00:00:25.1660  2022-01-01 00:10:22.1920   \n",
       "1           411  2022-01-01 00:00:40.4300  2022-01-01 00:07:32.1980   \n",
       "2           476  2022-01-01 00:00:54.8180  2022-01-01 00:08:51.6680   \n",
       "3           466  2022-01-01 00:01:01.6080  2022-01-01 00:08:48.2350   \n",
       "4           752  2022-01-01 00:01:06.0520  2022-01-01 00:13:38.2300   \n",
       "\n",
       "   start station id               start station name  start station latitude  \\\n",
       "0               178  MIT Pacific St at Purrington St               42.359573   \n",
       "1               189                        Kendall T               42.362428   \n",
       "2                94             Main St at Austin St               42.375603   \n",
       "3                94             Main St at Austin St               42.375603   \n",
       "4                19            Park Dr at Buswell St               42.347241   \n",
       "\n",
       "   start station longitude  end station id  \\\n",
       "0               -71.101295              74   \n",
       "1               -71.084955             178   \n",
       "2               -71.064608             356   \n",
       "3               -71.064608             356   \n",
       "4               -71.105301              41   \n",
       "\n",
       "                                    end station name  end station latitude  \\\n",
       "0                Harvard Square at Mass Ave/ Dunster             42.373268   \n",
       "1                    MIT Pacific St at Purrington St             42.359573   \n",
       "2                              Charlestown Navy Yard             42.374125   \n",
       "3                              Charlestown Navy Yard             42.374125   \n",
       "4  Packard's Corner - Commonwealth Ave at Brighto...             42.352261   \n",
       "\n",
       "   end station longitude  bikeid    usertype postal code  \n",
       "0             -71.118579    4923  Subscriber       02139  \n",
       "1             -71.101295    3112  Subscriber       02139  \n",
       "2             -71.054812    6901    Customer       02124  \n",
       "3             -71.054812    5214    Customer       02124  \n",
       "4             -71.123831    2214  Subscriber       02215  "
      ]
     },
     "execution_count": 3,
     "metadata": {},
     "output_type": "execute_result"
    }
   ],
   "source": [
    "data.head()"
   ]
  },
  {
   "cell_type": "code",
   "execution_count": 5,
   "id": "199fa70c",
   "metadata": {},
   "outputs": [],
   "source": [
    "#transforming the dates from object to datetime\n",
    "for date_column in ['starttime','stoptime']:\n",
    "    data[date_column] = pd.to_datetime(data[date_column], format='%Y-%m-%d %H:%M:%S')"
   ]
  },
  {
   "cell_type": "markdown",
   "id": "be25935e",
   "metadata": {},
   "source": [
    "Simple City Prediction"
   ]
  },
  {
   "cell_type": "code",
   "execution_count": 56,
   "id": "1af798a3",
   "metadata": {},
   "outputs": [],
   "source": [
    "def DatetimeInterval(df,freq):\n",
    "    pickups = df.set_index('starttime')\n",
    "    pickups = pickups['tripduration'].groupby(pd.Grouper(freq=freq, label='left', origin='start_day')).count()    \n",
    "    pickups = pd.DataFrame(pickups)\n",
    "    pickups.rename(columns={'tripduration':'pickups'}, inplace=True)\n",
    "    \n",
    "    return pickups "
   ]
  },
  {
   "cell_type": "code",
   "execution_count": 57,
   "id": "ec9dd3a8",
   "metadata": {},
   "outputs": [],
   "source": [
    "df15 = DatetimeInterval(data, freq='15Min')\n",
    "df30 = DatetimeInterval(data, freq='30Min')\n",
    "df60 = DatetimeInterval(data, freq='60Min')\n",
    "df120 = DatetimeInterval(data, freq='120Min')"
   ]
  },
  {
   "cell_type": "markdown",
   "id": "03b8365e",
   "metadata": {},
   "source": [
    "# # Weather Data"
   ]
  },
  {
   "cell_type": "code",
   "execution_count": null,
   "id": "acfb6848",
   "metadata": {},
   "outputs": [],
   "source": [
    "weather_data = pd.read_csv('')"
   ]
  },
  {
   "cell_type": "code",
   "execution_count": null,
   "id": "a66a9575",
   "metadata": {},
   "outputs": [],
   "source": [
    "weather_data.head()"
   ]
  },
  {
   "cell_type": "code",
   "execution_count": null,
   "id": "5df62ee7",
   "metadata": {},
   "outputs": [],
   "source": [
    "weather_data.to_csv('/home/georgep/Desktop/Boston BikeSharing/WeatherData')"
   ]
  },
  {
   "cell_type": "markdown",
   "id": "8e8cf5dd",
   "metadata": {},
   "source": [
    "# # Station Data"
   ]
  },
  {
   "cell_type": "code",
   "execution_count": null,
   "id": "77a99ff2",
   "metadata": {},
   "outputs": [],
   "source": [
    "stations_data = pd.read_csv('/home/georgep/Desktop/Boston BikeSharing/current_bluebikes_stations.csv', header=1)"
   ]
  },
  {
   "cell_type": "code",
   "execution_count": null,
   "id": "0212b9ce",
   "metadata": {},
   "outputs": [],
   "source": [
    "stations_data.head()"
   ]
  },
  {
   "cell_type": "code",
   "execution_count": null,
   "id": "41a4d9c3",
   "metadata": {},
   "outputs": [],
   "source": [
    "stations_data[stations_data['Deployment Year'] == 2022]"
   ]
  },
  {
   "cell_type": "code",
   "execution_count": null,
   "id": "badee15b",
   "metadata": {},
   "outputs": [],
   "source": []
  }
 ],
 "metadata": {
  "kernelspec": {
   "display_name": "Python 3",
   "language": "python",
   "name": "python3"
  },
  "language_info": {
   "codemirror_mode": {
    "name": "ipython",
    "version": 3
   },
   "file_extension": ".py",
   "mimetype": "text/x-python",
   "name": "python",
   "nbconvert_exporter": "python",
   "pygments_lexer": "ipython3",
   "version": "3.8.10"
  }
 },
 "nbformat": 4,
 "nbformat_minor": 5
}
